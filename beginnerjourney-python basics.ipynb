{
  "nbformat": 4,
  "nbformat_minor": 0,
  "metadata": {
    "colab": {
      "provenance": [],
      "toc_visible": true,
      "authorship_tag": "ABX9TyMNCHXGMP/JOSo7MIfO8Pjq",
      "include_colab_link": true
    },
    "kernelspec": {
      "name": "python3",
      "display_name": "Python 3"
    },
    "language_info": {
      "name": "python"
    }
  },
  "cells": [
    {
      "cell_type": "markdown",
      "metadata": {
        "id": "view-in-github",
        "colab_type": "text"
      },
      "source": [
        "<a href=\"https://colab.research.google.com/github/Bhavyamishra24/My-resume/blob/main/beginnerjourney-python%20basics.ipynb\" target=\"_parent\"><img src=\"https://colab.research.google.com/assets/colab-badge.svg\" alt=\"Open In Colab\"/></a>"
      ]
    },
    {
      "cell_type": "code",
      "source": [
        "# print(\"Hello world\")"
      ],
      "metadata": {
        "id": "CAFOoFcq7Gc-"
      },
      "execution_count": 12,
      "outputs": []
    },
    {
      "cell_type": "code",
      "source": [
        "# import pyjokes\n",
        "# joke = pyjokes.get_joke()\n",
        "# print(joke)"
      ],
      "metadata": {
        "colab": {
          "base_uri": "https://localhost:8080/"
        },
        "id": "QQTaCZq_971n",
        "outputId": "beff7249-86b4-451a-fd74-c7a26727339d"
      },
      "execution_count": 13,
      "outputs": [
        {
          "output_type": "stream",
          "name": "stdout",
          "text": [
            "A programmer was found dead in the shower. Next to their body was a bottle of shampoo with the instructions 'Lather, Rinse and Repeat'.\n"
          ]
        }
      ]
    },
    {
      "cell_type": "code",
      "source": [
        "# print('''Twinkle, twinkle, little star,\n",
        "# How I wonder what you are!\n",
        "# Up above the world so high,\n",
        "# Like a diamond in the sky.\n",
        "\n",
        "# Twinkle, twinkle, little star,\n",
        "# How I wonder what you are!''')"
      ],
      "metadata": {
        "colab": {
          "base_uri": "https://localhost:8080/"
        },
        "id": "lhFJtDCaGKoc",
        "outputId": "98c25395-7652-4dad-c0ee-9a96a7dcfdb8"
      },
      "execution_count": 14,
      "outputs": [
        {
          "output_type": "stream",
          "name": "stdout",
          "text": [
            "Twinkle, twinkle, little star,\n",
            "How I wonder what you are!\n",
            "Up above the world so high,\n",
            "Like a diamond in the sky.\n",
            "\n",
            "Twinkle, twinkle, little star,\n",
            "How I wonder what you are!\n"
          ]
        }
      ]
    },
    {
      "cell_type": "code",
      "source": [],
      "metadata": {
        "colab": {
          "base_uri": "https://localhost:8080/"
        },
        "id": "94Emm9evJHKG",
        "outputId": "89c3a9ec-b2c6-454d-b8b3-fe8bc8f36f5b"
      },
      "execution_count": 15,
      "outputs": [
        {
          "output_type": "stream",
          "name": "stdout",
          "text": [
            "3\n"
          ]
        }
      ]
    },
    {
      "cell_type": "markdown",
      "source": [
        "# CHAPTER TWO\n"
      ],
      "metadata": {
        "id": "TZ08tyvcNUGy"
      }
    },
    {
      "cell_type": "code",
      "source": [
        "a = 1 # a is a variable here\n",
        "b = 2\n",
        "print(a + b)\n"
      ],
      "metadata": {
        "colab": {
          "base_uri": "https://localhost:8080/"
        },
        "id": "HLMAwm_eNZwp",
        "outputId": "cdef3038-b0f6-49e2-c09d-cbb0cd7ec088"
      },
      "execution_count": 17,
      "outputs": [
        {
          "output_type": "stream",
          "name": "stdout",
          "text": [
            "3\n"
          ]
        }
      ]
    },
    {
      "cell_type": "code",
      "source": [
        "a = 1 # a is a  integer variable\n",
        "b = 2.33 # b is a floating point number\n",
        "c = \"abs3\"# c is a string\n",
        "d = True # d is a boolean\n",
        "e = None # e is a none integer\n",
        "if  a == 1: # simple if condition\n",
        "  print(c)\n"
      ],
      "metadata": {
        "colab": {
          "base_uri": "https://localhost:8080/"
        },
        "id": "N98kl5jBNj3p",
        "outputId": "945d9fff-0a49-4dc4-c2d6-a4b33e083feb"
      },
      "execution_count": 25,
      "outputs": [
        {
          "output_type": "stream",
          "name": "stdout",
          "text": [
            "abs3\n"
          ]
        }
      ]
    },
    {
      "cell_type": "code",
      "source": [
        "#invalid names of variables\n",
        "@a = 2 # this is not a valid name = since other than _ no other character can be used\n",
        "_b = 3 # valid name since it can start with _\n",
        "2bhavya = 23 # invalid name = since names can't start with numbers\n",
        "print(\"\"\" @a\n",
        "_b\n",
        "\"\"\")"
      ],
      "metadata": {
        "colab": {
          "base_uri": "https://localhost:8080/",
          "height": 106
        },
        "id": "itd2Ps-NOlMS",
        "outputId": "8b503efd-d03c-4af4-a861-b5f5d78c420d"
      },
      "execution_count": 27,
      "outputs": [
        {
          "output_type": "error",
          "ename": "SyntaxError",
          "evalue": "invalid syntax. Maybe you meant '==' or ':=' instead of '='? (ipython-input-27-3766681070.py, line 2)",
          "traceback": [
            "\u001b[0;36m  File \u001b[0;32m\"/tmp/ipython-input-27-3766681070.py\"\u001b[0;36m, line \u001b[0;32m2\u001b[0m\n\u001b[0;31m    @a = 2\u001b[0m\n\u001b[0m     ^\u001b[0m\n\u001b[0;31mSyntaxError\u001b[0m\u001b[0;31m:\u001b[0m invalid syntax. Maybe you meant '==' or ':=' instead of '='?\n"
          ]
        }
      ]
    },
    {
      "cell_type": "code",
      "source": [
        "#Arthimetic operater\n",
        "a = 2\n",
        "b = 4\n",
        "c = a + b # yaha pr + is a arthimetic op\n",
        "print(c)"
      ],
      "metadata": {
        "colab": {
          "base_uri": "https://localhost:8080/"
        },
        "id": "Cm1qS7qBPaT0",
        "outputId": "fca7cb62-ffb6-42d3-b0b5-04e2c0289396"
      },
      "execution_count": 28,
      "outputs": [
        {
          "output_type": "stream",
          "name": "stdout",
          "text": [
            "6\n"
          ]
        }
      ]
    },
    {
      "cell_type": "code",
      "source": [
        "a = 4-2\n",
        "b = 6 #assignment operator\n",
        "b += 3\n",
        "c = 11\n",
        "c -= 3\n",
        "print (a, b, c)"
      ],
      "metadata": {
        "colab": {
          "base_uri": "https://localhost:8080/"
        },
        "id": "Wui0AsFIZnY-",
        "outputId": "8542bb97-0bfa-4d23-f111-3aba16ceee61"
      },
      "execution_count": 31,
      "outputs": [
        {
          "output_type": "stream",
          "name": "stdout",
          "text": [
            "2 9 8\n"
          ]
        }
      ]
    },
    {
      "cell_type": "code",
      "source": [
        "d = 5 <= 4 #comparison operator\n",
        "print(d)"
      ],
      "metadata": {
        "colab": {
          "base_uri": "https://localhost:8080/"
        },
        "id": "Wguj8hC5aHMS",
        "outputId": "16662578-2db3-4138-86aa-ed546371aa00"
      },
      "execution_count": 32,
      "outputs": [
        {
          "output_type": "stream",
          "name": "stdout",
          "text": [
            "False\n"
          ]
        }
      ]
    },
    {
      "cell_type": "code",
      "source": [
        "e = True or False\n",
        "f = True and False\n",
        "print(e, f)\n",
        "print(not(True))"
      ],
      "metadata": {
        "colab": {
          "base_uri": "https://localhost:8080/"
        },
        "id": "4KEDJFXfawHA",
        "outputId": "18d63a48-cc05-4445-fa87-5ea9b2229401"
      },
      "execution_count": 33,
      "outputs": [
        {
          "output_type": "stream",
          "name": "stdout",
          "text": [
            "True False\n",
            "False\n"
          ]
        }
      ]
    },
    {
      "cell_type": "code",
      "source": [
        "#type( ) func\n",
        "a = 31\n",
        "t = type(a)\n",
        "print(t)\n",
        "\n",
        "#Type conversion\n",
        "a3 = \"3.2\"\n",
        "b = float(a3)\n",
        "d = type(b)\n",
        "print(d)"
      ],
      "metadata": {
        "colab": {
          "base_uri": "https://localhost:8080/"
        },
        "id": "UXEbNU1-bOWG",
        "outputId": "c2ae091d-0fe9-4641-a1bb-ef7ddaa56f07"
      },
      "execution_count": 34,
      "outputs": [
        {
          "output_type": "stream",
          "name": "stdout",
          "text": [
            "<class 'int'>\n",
            "<class 'float'>\n"
          ]
        }
      ]
    },
    {
      "cell_type": "markdown",
      "source": [
        "# two - practise session"
      ],
      "metadata": {
        "id": "Pf1B9y7IfA2L"
      }
    },
    {
      "cell_type": "code",
      "source": [
        "#adding two nos.\n",
        "a = 2\n",
        "b = 3\n",
        "print(a + b)"
      ],
      "metadata": {
        "colab": {
          "base_uri": "https://localhost:8080/"
        },
        "id": "1kQGVL8pfH-p",
        "outputId": "14e60d5b-cbb9-4465-e7fe-f6f5f509b723"
      },
      "execution_count": 35,
      "outputs": [
        {
          "output_type": "stream",
          "name": "stdout",
          "text": [
            "5\n"
          ]
        }
      ]
    },
    {
      "cell_type": "code",
      "source": [
        "#wap to find remainder\n",
        "a = 12\n",
        "b = 3\n",
        "print(\"remainder when a is divided by b is\", a%b)"
      ],
      "metadata": {
        "colab": {
          "base_uri": "https://localhost:8080/"
        },
        "id": "YXG7JTYefRfA",
        "outputId": "b3825000-4a09-4a3e-f0f8-98253be1c68d"
      },
      "execution_count": 36,
      "outputs": [
        {
          "output_type": "stream",
          "name": "stdout",
          "text": [
            "remainder when a is divided by b is 0\n"
          ]
        }
      ]
    },
    {
      "cell_type": "code",
      "source": [
        "a = 34\n",
        "b = 80\n",
        "c = a>b\n",
        "print(c)"
      ],
      "metadata": {
        "colab": {
          "base_uri": "https://localhost:8080/"
        },
        "id": "t7pX1y3qgBWa",
        "outputId": "87c1612d-82fd-4228-a901-7c85d9ea055e"
      },
      "execution_count": 37,
      "outputs": [
        {
          "output_type": "stream",
          "name": "stdout",
          "text": [
            "False\n"
          ]
        }
      ]
    },
    {
      "cell_type": "code",
      "source": [
        "a = int(input(\"enter a number: \"))\n",
        "print(\"square of the number is :\", a * a)"
      ],
      "metadata": {
        "colab": {
          "base_uri": "https://localhost:8080/"
        },
        "id": "65Ei5yvegMfT",
        "outputId": "b55036b1-74e3-4a93-fcf3-befe6372fa0d"
      },
      "execution_count": 38,
      "outputs": [
        {
          "output_type": "stream",
          "name": "stdout",
          "text": [
            "enter a number: 3\n",
            "square of the number is : 9\n"
          ]
        }
      ]
    },
    {
      "cell_type": "code",
      "source": [
        "a = int(input(\"enter a number1: \")) #avg of 2 numbers\n",
        "b = int(input(\"enter a number2: \"))\n",
        "print(\"average of both numbers =\", (a + b)/2)"
      ],
      "metadata": {
        "colab": {
          "base_uri": "https://localhost:8080/"
        },
        "id": "Cc6tJSWdg8sy",
        "outputId": "85b122c2-0e88-497d-9de0-a486176d2709"
      },
      "execution_count": 40,
      "outputs": [
        {
          "output_type": "stream",
          "name": "stdout",
          "text": [
            "enter a number1: 24\n",
            "enter a number2: 36\n",
            "average of both numbers = 30.0\n"
          ]
        }
      ]
    }
  ]
}